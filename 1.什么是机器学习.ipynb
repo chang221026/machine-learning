{
  "nbformat": 4,
  "nbformat_minor": 0,
  "metadata": {
    "colab": {
      "provenance": []
    },
    "kernelspec": {
      "name": "python3",
      "display_name": "Python 3"
    },
    "language_info": {
      "name": "python"
    }
  },
  "cells": [
    {
      "cell_type": "markdown",
      "source": [
        "机器学习：使计算机能够在没有被明确编程的情况下进行学习的领域。 ——Arthur Samuel（1950）提出"
      ],
      "metadata": {
        "id": "QXvsO3Prp3B7"
      }
    },
    {
      "cell_type": "markdown",
      "source": [
        "机器学习主要有两种类型：**监督学习和无监督学习。**\n",
        "\n"
      ],
      "metadata": {
        "id": "YjkysT6DrqaN"
      }
    },
    {
      "cell_type": "markdown",
      "source": [
        "**监督学习**是机器学习中应用最广泛的一种，并且在许多实际应用中取得了最快的进步和创新。本系列课程共有三门课，第一门和第二门将重点讲解监督学习，第三门则将聚焦于无监督学习、推荐系统和强化学习。目前，使用最广泛的学习算法类型包括**监督学习、无监督学习和推荐系统**。"
      ],
      "metadata": {
        "id": "K78LKmp-rw_x"
      }
    },
    {
      "cell_type": "markdown",
      "source": [
        "**在机器学习领域，确保你拥有这些工具固然重要，但更重要的是确保你知道如何有效地应用这些工具。**"
      ],
      "metadata": {
        "id": "5iSzDu42rxXr"
      }
    },
    {
      "cell_type": "markdown",
      "source": [
        "完这门课程后，能成为当今世界上极少数真正懂得如何设计和构建严肃机器学习系统的人之一。这就是机器学习的意义所在。"
      ],
      "metadata": {
        "id": "xMpXA3WttLW0"
      }
    }
  ]
}